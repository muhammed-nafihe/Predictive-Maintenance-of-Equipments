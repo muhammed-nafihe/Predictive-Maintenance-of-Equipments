{
 "cells": [
  {
   "cell_type": "code",
   "execution_count": 1,
   "id": "393648d2",
   "metadata": {},
   "outputs": [],
   "source": [
    "#importing the dataset split\n",
    "import joblib\n",
    "X_train_sm, X_val, X_test, y_train_sm, y_val, y_test = joblib.load('split_data.pkl')\n"
   ]
  },
  {
   "cell_type": "code",
   "execution_count": 2,
   "id": "9f2351d3",
   "metadata": {},
   "outputs": [
    {
     "name": "stdout",
     "output_type": "stream",
     "text": [
      "Training dataset shape:((12856, 6), (12856,))\n",
      "Validation dataset shape:((1414, 6), (1414,))\n",
      "Testing dataset shape:((1414, 6), (1414,))\n"
     ]
    }
   ],
   "source": [
    "#checking the datasets\n",
    "print(f\"Training dataset shape:{X_train_sm.shape, y_train_sm.shape}\")\n",
    "print(f\"Validation dataset shape:{X_val.shape, y_val.shape}\")\n",
    "print(f\"Testing dataset shape:{X_test.shape, y_test.shape}\")"
   ]
  },
  {
   "cell_type": "code",
   "execution_count": 3,
   "id": "ebc83c95",
   "metadata": {},
   "outputs": [],
   "source": [
    "#Importing all libraries required for creating DNN\n",
    "from tensorflow.keras.models import Sequential\n",
    "from tensorflow.keras.layers import Dense, BatchNormalization, Dropout, Input\n",
    "from tensorflow.keras.optimizers import Adam, SGD, RMSprop\n",
    "from tensorflow.keras.callbacks import EarlyStopping, ReduceLROnPlateau\n",
    "\n"
   ]
  },
  {
   "cell_type": "code",
   "execution_count": 4,
   "id": "1fda2708",
   "metadata": {},
   "outputs": [],
   "source": [
    "#Defining a Creating DNN model function\n",
    "def create_dnn(neurons1 = 32, neurons2 = 16, neurons3 = 8, activation1 = 'relu', activation2 = 'relu',\n",
    "               activation3 = 'relu', optimizer = 'adam', learning_rate = 0.001, dropout_rate = 0.5,\n",
    "               input_dim = 6):\n",
    "    optimizerD = {\n",
    "        'adam' : Adam(learning_rate = learning_rate),\n",
    "        'sgd' : SGD(learning_rate = learning_rate),\n",
    "        'rmsprop' : RMSprop(learning_rate = learning_rate),   \n",
    "    }\n",
    "    \n",
    "    model = Sequential()\n",
    "    \n",
    "    #Input layer with 6 neurons\n",
    "    model.add(Input(shape = (input_dim,)))\n",
    "    \n",
    "    #First hidden layer\n",
    "    model.add(Dense(neurons1, activation = activation1))\n",
    "    model.add(BatchNormalization())\n",
    "    model.add(Dropout(dropout_rate))\n",
    "    \n",
    "    #Second hidden layer\n",
    "    model.add(Dense(neurons2, activation = activation2))\n",
    "    model.add(BatchNormalization())\n",
    "    model.add(Dropout(dropout_rate))\n",
    "    \n",
    "    #Third hidden layer\n",
    "    model.add(Dense(neurons3, activation = activation3))\n",
    "    model.add(BatchNormalization())\n",
    "    model.add(Dropout(dropout_rate))\n",
    "    \n",
    "    #Output layer with one neuron\n",
    "    model.add(Dense(1, activation = 'sigmoid'))\n",
    "\n",
    "    model.compile(loss='binary_crossentropy', optimizer=optimizerD[optimizer], metrics=['accuracy'])\n",
    "    return model"
   ]
  },
  {
   "cell_type": "code",
   "execution_count": 5,
   "id": "69e18c0d",
   "metadata": {},
   "outputs": [
    {
     "name": "stdout",
     "output_type": "stream",
     "text": [
      "Epoch 1/50\n",
      "402/402 - 4s - 10ms/step - accuracy: 0.8514 - loss: 0.3734 - val_accuracy: 0.8861 - val_loss: 0.2414 - learning_rate: 0.1000\n",
      "Epoch 2/50\n",
      "402/402 - 1s - 2ms/step - accuracy: 0.8741 - loss: 0.3238 - val_accuracy: 0.9222 - val_loss: 0.1895 - learning_rate: 0.1000\n",
      "Epoch 3/50\n",
      "402/402 - 1s - 3ms/step - accuracy: 0.8871 - loss: 0.3019 - val_accuracy: 0.9250 - val_loss: 0.1453 - learning_rate: 0.1000\n",
      "Epoch 4/50\n",
      "402/402 - 1s - 2ms/step - accuracy: 0.8839 - loss: 0.3049 - val_accuracy: 0.8996 - val_loss: 0.2358 - learning_rate: 0.1000\n",
      "Epoch 5/50\n",
      "402/402 - 1s - 3ms/step - accuracy: 0.8911 - loss: 0.2900 - val_accuracy: 0.8289 - val_loss: 0.5284 - learning_rate: 0.1000\n",
      "Epoch 6/50\n",
      "402/402 - 1s - 2ms/step - accuracy: 0.8951 - loss: 0.2926 - val_accuracy: 0.9038 - val_loss: 0.2029 - learning_rate: 0.1000\n",
      "Epoch 7/50\n",
      "402/402 - 1s - 2ms/step - accuracy: 0.9176 - loss: 0.2291 - val_accuracy: 0.9151 - val_loss: 0.1871 - learning_rate: 0.0200\n",
      "Epoch 8/50\n",
      "402/402 - 1s - 3ms/step - accuracy: 0.9218 - loss: 0.2158 - val_accuracy: 0.9173 - val_loss: 0.1805 - learning_rate: 0.0200\n"
     ]
    }
   ],
   "source": [
    "#Defining the parameter values of initial DNN model\n",
    "model = create_dnn(neurons1 = 128, neurons2 = 64, neurons3 =32, activation1 = 'relu', activation2 = 'relu',\n",
    "               activation3 = 'relu', optimizer = 'adam', learning_rate = 0.1, dropout_rate = 0.4,\n",
    "               input_dim = 6)\n",
    "\n",
    "#Training the DNN model \n",
    "dnn = model.fit(X_train_sm, y_train_sm, validation_data = (X_val, y_val), epochs = 50, batch_size = 32,\n",
    "               callbacks = [\n",
    "                    EarlyStopping(monitor='val_loss', patience=5, restore_best_weights=True), \n",
    "                    ReduceLROnPlateau(monitor='val_loss', factor=0.2, patience=3, min_lr=0.000)\n",
    "               ], verbose = 2)"
   ]
  },
  {
   "cell_type": "code",
   "execution_count": 6,
   "id": "54535c4a",
   "metadata": {
    "scrolled": false
   },
   "outputs": [
    {
     "data": {
      "text/html": [
       "<pre style=\"white-space:pre;overflow-x:auto;line-height:normal;font-family:Menlo,'DejaVu Sans Mono',consolas,'Courier New',monospace\"><span style=\"font-weight: bold\">Model: \"sequential\"</span>\n",
       "</pre>\n"
      ],
      "text/plain": [
       "\u001b[1mModel: \"sequential\"\u001b[0m\n"
      ]
     },
     "metadata": {},
     "output_type": "display_data"
    },
    {
     "data": {
      "text/html": [
       "<pre style=\"white-space:pre;overflow-x:auto;line-height:normal;font-family:Menlo,'DejaVu Sans Mono',consolas,'Courier New',monospace\">┏━━━━━━━━━━━━━━━━━━━━━━━━━━━━━━━━━━━━━━┳━━━━━━━━━━━━━━━━━━━━━━━━━━━━━┳━━━━━━━━━━━━━━━━━┓\n",
       "┃<span style=\"font-weight: bold\"> Layer (type)                         </span>┃<span style=\"font-weight: bold\"> Output Shape                </span>┃<span style=\"font-weight: bold\">         Param # </span>┃\n",
       "┡━━━━━━━━━━━━━━━━━━━━━━━━━━━━━━━━━━━━━━╇━━━━━━━━━━━━━━━━━━━━━━━━━━━━━╇━━━━━━━━━━━━━━━━━┩\n",
       "│ dense (<span style=\"color: #0087ff; text-decoration-color: #0087ff\">Dense</span>)                        │ (<span style=\"color: #00d7ff; text-decoration-color: #00d7ff\">None</span>, <span style=\"color: #00af00; text-decoration-color: #00af00\">128</span>)                 │             <span style=\"color: #00af00; text-decoration-color: #00af00\">896</span> │\n",
       "├──────────────────────────────────────┼─────────────────────────────┼─────────────────┤\n",
       "│ batch_normalization                  │ (<span style=\"color: #00d7ff; text-decoration-color: #00d7ff\">None</span>, <span style=\"color: #00af00; text-decoration-color: #00af00\">128</span>)                 │             <span style=\"color: #00af00; text-decoration-color: #00af00\">512</span> │\n",
       "│ (<span style=\"color: #0087ff; text-decoration-color: #0087ff\">BatchNormalization</span>)                 │                             │                 │\n",
       "├──────────────────────────────────────┼─────────────────────────────┼─────────────────┤\n",
       "│ dropout (<span style=\"color: #0087ff; text-decoration-color: #0087ff\">Dropout</span>)                    │ (<span style=\"color: #00d7ff; text-decoration-color: #00d7ff\">None</span>, <span style=\"color: #00af00; text-decoration-color: #00af00\">128</span>)                 │               <span style=\"color: #00af00; text-decoration-color: #00af00\">0</span> │\n",
       "├──────────────────────────────────────┼─────────────────────────────┼─────────────────┤\n",
       "│ dense_1 (<span style=\"color: #0087ff; text-decoration-color: #0087ff\">Dense</span>)                      │ (<span style=\"color: #00d7ff; text-decoration-color: #00d7ff\">None</span>, <span style=\"color: #00af00; text-decoration-color: #00af00\">64</span>)                  │           <span style=\"color: #00af00; text-decoration-color: #00af00\">8,256</span> │\n",
       "├──────────────────────────────────────┼─────────────────────────────┼─────────────────┤\n",
       "│ batch_normalization_1                │ (<span style=\"color: #00d7ff; text-decoration-color: #00d7ff\">None</span>, <span style=\"color: #00af00; text-decoration-color: #00af00\">64</span>)                  │             <span style=\"color: #00af00; text-decoration-color: #00af00\">256</span> │\n",
       "│ (<span style=\"color: #0087ff; text-decoration-color: #0087ff\">BatchNormalization</span>)                 │                             │                 │\n",
       "├──────────────────────────────────────┼─────────────────────────────┼─────────────────┤\n",
       "│ dropout_1 (<span style=\"color: #0087ff; text-decoration-color: #0087ff\">Dropout</span>)                  │ (<span style=\"color: #00d7ff; text-decoration-color: #00d7ff\">None</span>, <span style=\"color: #00af00; text-decoration-color: #00af00\">64</span>)                  │               <span style=\"color: #00af00; text-decoration-color: #00af00\">0</span> │\n",
       "├──────────────────────────────────────┼─────────────────────────────┼─────────────────┤\n",
       "│ dense_2 (<span style=\"color: #0087ff; text-decoration-color: #0087ff\">Dense</span>)                      │ (<span style=\"color: #00d7ff; text-decoration-color: #00d7ff\">None</span>, <span style=\"color: #00af00; text-decoration-color: #00af00\">32</span>)                  │           <span style=\"color: #00af00; text-decoration-color: #00af00\">2,080</span> │\n",
       "├──────────────────────────────────────┼─────────────────────────────┼─────────────────┤\n",
       "│ batch_normalization_2                │ (<span style=\"color: #00d7ff; text-decoration-color: #00d7ff\">None</span>, <span style=\"color: #00af00; text-decoration-color: #00af00\">32</span>)                  │             <span style=\"color: #00af00; text-decoration-color: #00af00\">128</span> │\n",
       "│ (<span style=\"color: #0087ff; text-decoration-color: #0087ff\">BatchNormalization</span>)                 │                             │                 │\n",
       "├──────────────────────────────────────┼─────────────────────────────┼─────────────────┤\n",
       "│ dropout_2 (<span style=\"color: #0087ff; text-decoration-color: #0087ff\">Dropout</span>)                  │ (<span style=\"color: #00d7ff; text-decoration-color: #00d7ff\">None</span>, <span style=\"color: #00af00; text-decoration-color: #00af00\">32</span>)                  │               <span style=\"color: #00af00; text-decoration-color: #00af00\">0</span> │\n",
       "├──────────────────────────────────────┼─────────────────────────────┼─────────────────┤\n",
       "│ dense_3 (<span style=\"color: #0087ff; text-decoration-color: #0087ff\">Dense</span>)                      │ (<span style=\"color: #00d7ff; text-decoration-color: #00d7ff\">None</span>, <span style=\"color: #00af00; text-decoration-color: #00af00\">1</span>)                   │              <span style=\"color: #00af00; text-decoration-color: #00af00\">33</span> │\n",
       "└──────────────────────────────────────┴─────────────────────────────┴─────────────────┘\n",
       "</pre>\n"
      ],
      "text/plain": [
       "┏━━━━━━━━━━━━━━━━━━━━━━━━━━━━━━━━━━━━━━┳━━━━━━━━━━━━━━━━━━━━━━━━━━━━━┳━━━━━━━━━━━━━━━━━┓\n",
       "┃\u001b[1m \u001b[0m\u001b[1mLayer (type)                        \u001b[0m\u001b[1m \u001b[0m┃\u001b[1m \u001b[0m\u001b[1mOutput Shape               \u001b[0m\u001b[1m \u001b[0m┃\u001b[1m \u001b[0m\u001b[1m        Param #\u001b[0m\u001b[1m \u001b[0m┃\n",
       "┡━━━━━━━━━━━━━━━━━━━━━━━━━━━━━━━━━━━━━━╇━━━━━━━━━━━━━━━━━━━━━━━━━━━━━╇━━━━━━━━━━━━━━━━━┩\n",
       "│ dense (\u001b[38;5;33mDense\u001b[0m)                        │ (\u001b[38;5;45mNone\u001b[0m, \u001b[38;5;34m128\u001b[0m)                 │             \u001b[38;5;34m896\u001b[0m │\n",
       "├──────────────────────────────────────┼─────────────────────────────┼─────────────────┤\n",
       "│ batch_normalization                  │ (\u001b[38;5;45mNone\u001b[0m, \u001b[38;5;34m128\u001b[0m)                 │             \u001b[38;5;34m512\u001b[0m │\n",
       "│ (\u001b[38;5;33mBatchNormalization\u001b[0m)                 │                             │                 │\n",
       "├──────────────────────────────────────┼─────────────────────────────┼─────────────────┤\n",
       "│ dropout (\u001b[38;5;33mDropout\u001b[0m)                    │ (\u001b[38;5;45mNone\u001b[0m, \u001b[38;5;34m128\u001b[0m)                 │               \u001b[38;5;34m0\u001b[0m │\n",
       "├──────────────────────────────────────┼─────────────────────────────┼─────────────────┤\n",
       "│ dense_1 (\u001b[38;5;33mDense\u001b[0m)                      │ (\u001b[38;5;45mNone\u001b[0m, \u001b[38;5;34m64\u001b[0m)                  │           \u001b[38;5;34m8,256\u001b[0m │\n",
       "├──────────────────────────────────────┼─────────────────────────────┼─────────────────┤\n",
       "│ batch_normalization_1                │ (\u001b[38;5;45mNone\u001b[0m, \u001b[38;5;34m64\u001b[0m)                  │             \u001b[38;5;34m256\u001b[0m │\n",
       "│ (\u001b[38;5;33mBatchNormalization\u001b[0m)                 │                             │                 │\n",
       "├──────────────────────────────────────┼─────────────────────────────┼─────────────────┤\n",
       "│ dropout_1 (\u001b[38;5;33mDropout\u001b[0m)                  │ (\u001b[38;5;45mNone\u001b[0m, \u001b[38;5;34m64\u001b[0m)                  │               \u001b[38;5;34m0\u001b[0m │\n",
       "├──────────────────────────────────────┼─────────────────────────────┼─────────────────┤\n",
       "│ dense_2 (\u001b[38;5;33mDense\u001b[0m)                      │ (\u001b[38;5;45mNone\u001b[0m, \u001b[38;5;34m32\u001b[0m)                  │           \u001b[38;5;34m2,080\u001b[0m │\n",
       "├──────────────────────────────────────┼─────────────────────────────┼─────────────────┤\n",
       "│ batch_normalization_2                │ (\u001b[38;5;45mNone\u001b[0m, \u001b[38;5;34m32\u001b[0m)                  │             \u001b[38;5;34m128\u001b[0m │\n",
       "│ (\u001b[38;5;33mBatchNormalization\u001b[0m)                 │                             │                 │\n",
       "├──────────────────────────────────────┼─────────────────────────────┼─────────────────┤\n",
       "│ dropout_2 (\u001b[38;5;33mDropout\u001b[0m)                  │ (\u001b[38;5;45mNone\u001b[0m, \u001b[38;5;34m32\u001b[0m)                  │               \u001b[38;5;34m0\u001b[0m │\n",
       "├──────────────────────────────────────┼─────────────────────────────┼─────────────────┤\n",
       "│ dense_3 (\u001b[38;5;33mDense\u001b[0m)                      │ (\u001b[38;5;45mNone\u001b[0m, \u001b[38;5;34m1\u001b[0m)                   │              \u001b[38;5;34m33\u001b[0m │\n",
       "└──────────────────────────────────────┴─────────────────────────────┴─────────────────┘\n"
      ]
     },
     "metadata": {},
     "output_type": "display_data"
    },
    {
     "data": {
      "text/html": [
       "<pre style=\"white-space:pre;overflow-x:auto;line-height:normal;font-family:Menlo,'DejaVu Sans Mono',consolas,'Courier New',monospace\"><span style=\"font-weight: bold\"> Total params: </span><span style=\"color: #00af00; text-decoration-color: #00af00\">35,589</span> (139.02 KB)\n",
       "</pre>\n"
      ],
      "text/plain": [
       "\u001b[1m Total params: \u001b[0m\u001b[38;5;34m35,589\u001b[0m (139.02 KB)\n"
      ]
     },
     "metadata": {},
     "output_type": "display_data"
    },
    {
     "data": {
      "text/html": [
       "<pre style=\"white-space:pre;overflow-x:auto;line-height:normal;font-family:Menlo,'DejaVu Sans Mono',consolas,'Courier New',monospace\"><span style=\"font-weight: bold\"> Trainable params: </span><span style=\"color: #00af00; text-decoration-color: #00af00\">11,713</span> (45.75 KB)\n",
       "</pre>\n"
      ],
      "text/plain": [
       "\u001b[1m Trainable params: \u001b[0m\u001b[38;5;34m11,713\u001b[0m (45.75 KB)\n"
      ]
     },
     "metadata": {},
     "output_type": "display_data"
    },
    {
     "data": {
      "text/html": [
       "<pre style=\"white-space:pre;overflow-x:auto;line-height:normal;font-family:Menlo,'DejaVu Sans Mono',consolas,'Courier New',monospace\"><span style=\"font-weight: bold\"> Non-trainable params: </span><span style=\"color: #00af00; text-decoration-color: #00af00\">448</span> (1.75 KB)\n",
       "</pre>\n"
      ],
      "text/plain": [
       "\u001b[1m Non-trainable params: \u001b[0m\u001b[38;5;34m448\u001b[0m (1.75 KB)\n"
      ]
     },
     "metadata": {},
     "output_type": "display_data"
    },
    {
     "data": {
      "text/html": [
       "<pre style=\"white-space:pre;overflow-x:auto;line-height:normal;font-family:Menlo,'DejaVu Sans Mono',consolas,'Courier New',monospace\"><span style=\"font-weight: bold\"> Optimizer params: </span><span style=\"color: #00af00; text-decoration-color: #00af00\">23,428</span> (91.52 KB)\n",
       "</pre>\n"
      ],
      "text/plain": [
       "\u001b[1m Optimizer params: \u001b[0m\u001b[38;5;34m23,428\u001b[0m (91.52 KB)\n"
      ]
     },
     "metadata": {},
     "output_type": "display_data"
    }
   ],
   "source": [
    "model.summary()"
   ]
  },
  {
   "cell_type": "code",
   "execution_count": 7,
   "id": "1e319154",
   "metadata": {
    "scrolled": true
   },
   "outputs": [
    {
     "name": "stdout",
     "output_type": "stream",
     "text": [
      "\u001b[1m45/45\u001b[0m \u001b[32m━━━━━━━━━━━━━━━━━━━━\u001b[0m\u001b[37m\u001b[0m \u001b[1m0s\u001b[0m 6ms/step\n",
      "Initial Model Evaluation\n",
      "Accuracy:0.925035360678925\n",
      "Precision:0.25\n",
      "Recall:0.7619047619047619\n",
      "F1-Score:0.3764705882352941\n",
      "MSE:0.07496463932107496\n",
      "Confusion Matrix:\n",
      "[[1276   96]\n",
      " [  10   32]]\n"
     ]
    }
   ],
   "source": [
    "from sklearn.metrics import accuracy_score, precision_score, recall_score, f1_score, mean_squared_error, confusion_matrix\n",
    "\n",
    "#Evaluating DNN model using different evaluations metrics\n",
    "y_val_pred_prob = model.predict(X_val)\n",
    "y_val_pred = (y_val_pred_prob > 0.5).astype(int)\n",
    "accuracy_inl = accuracy_score(y_val, y_val_pred)\n",
    "precision_inl = precision_score(y_val, y_val_pred)\n",
    "recall_inl = recall_score(y_val, y_val_pred)\n",
    "f1_inl = f1_score(y_val, y_val_pred)\n",
    "mse_inl = mean_squared_error(y_val, y_val_pred)\n",
    "confmx_inl = confusion_matrix(y_val, y_val_pred)\n",
    "\n",
    "print(\"Initial Model Evaluation\")\n",
    "print(f\"Accuracy:{accuracy_inl}\")\n",
    "print(f\"Precision:{precision_inl}\")\n",
    "print(f\"Recall:{recall_inl}\")\n",
    "print(f\"F1-Score:{f1_inl}\")\n",
    "print(f\"MSE:{mse_inl}\")\n",
    "print(f\"Confusion Matrix:\\n{confmx_inl}\")"
   ]
  },
  {
   "cell_type": "code",
   "execution_count": 15,
   "id": "8a452d60",
   "metadata": {},
   "outputs": [
    {
     "name": "stdout",
     "output_type": "stream",
     "text": [
      "Fitting 3 folds for each of 20 candidates, totalling 60 fits\n"
     ]
    },
    {
     "name": "stderr",
     "output_type": "stream",
     "text": [
      "C:\\Users\\nafih\\anaconda3\\Lib\\site-packages\\scikeras\\wrappers.py:925: UserWarning: ``build_fn`` will be renamed to ``model`` in a future release, at which point use of ``build_fn`` will raise an Error instead.\n",
      "  X, y = self._initialize(X, y)\n"
     ]
    },
    {
     "name": "stdout",
     "output_type": "stream",
     "text": [
      "Best Hyperparameters found:\n",
      "{'optimizer': 'adam', 'neurons3': 32, 'neurons2': 16, 'neurons1': 128, 'learning_rate': 0.001, 'epochs': 50, 'dropout_rate': 0.2, 'batch_size': 128, 'activation3': 'relu', 'activation2': 'relu', 'activation1': 'relu'}\n"
     ]
    }
   ],
   "source": [
    "from scikeras.wrappers import KerasClassifier\n",
    "from sklearn.model_selection import RandomizedSearchCV\n",
    "# Define KerasClassifier for RandomizedSearchCV\n",
    "model = KerasClassifier(\n",
    "    build_fn=create_dnn,\n",
    "    neurons1 = 128, neurons2 = 64, neurons3 = 32, activation1 = 'relu', activation2 = 'relu',\n",
    "    activation3 = 'relu', optimizer = 'adam', learning_rate = 0.001, dropout_rate = 0.5,\n",
    "    input_dim= 6, batch_size=64, epochs=50, verbose=0\n",
    ")\n",
    "\n",
    "# Define the hyperparameter grid for RandomizedSearchCV\n",
    "param_grid = {\n",
    "    'neurons1': [128, 64, 32],\n",
    "    'neurons2': [64, 32, 16],\n",
    "    'neurons3': [32, 16, 8],\n",
    "    'activation1': ['relu', 'tanh'],\n",
    "    'activation2': ['relu', 'tanh'],\n",
    "    'activation3': ['relu', 'tanh'], \n",
    "    'optimizer': ['adam', 'sgd', 'rmsprop'],\n",
    "    'learning_rate': [0.0001, 0.001, 0.01, 0.1],\n",
    "    'dropout_rate': [0.2, 0.3,0.4, 0.5],\n",
    "    'batch_size': [32, 64, 128],\n",
    "    'epochs': [50, 100]\n",
    "}\n",
    "\n",
    "# Initialize RandomizedSearchCV\n",
    "random_search = RandomizedSearchCV(estimator=model, param_distributions=param_grid, \n",
    "                                   n_iter=20, cv=3, verbose=2, n_jobs=-1, error_score='raise')\n",
    "\n",
    "# Fit RandomizedSearchCV\n",
    "best_dnn_model = random_search.fit(X_train_sm, y_train_sm)\n",
    "\n",
    "# Output the best hyperparameters\n",
    "print(\"Best Hyperparameters found:\")\n",
    "print(best_dnn_model.best_params_)\n"
   ]
  },
  {
   "cell_type": "code",
   "execution_count": 16,
   "id": "386c0ccc",
   "metadata": {},
   "outputs": [
    {
     "name": "stdout",
     "output_type": "stream",
     "text": [
      "Initial Model Evaluation\n",
      "Accuracy:0.9476661951909476\n",
      "Precision:0.3431372549019608\n",
      "Recall:0.8333333333333334\n",
      "F1-Score:0.4861111111111111\n",
      "MSE:0.05233380480905234\n",
      "Confusion Matrix:\n",
      "[[1305   67]\n",
      " [   7   35]]\n"
     ]
    }
   ],
   "source": [
    "y_val_pred_prob = best_dnn_model.predict(X_val)\n",
    "y_val_pred = (y_val_pred_prob > 0.5).astype(int)\n",
    "accuracy_inl = accuracy_score(y_val, y_val_pred)\n",
    "precision_inl = precision_score(y_val, y_val_pred)\n",
    "recall_inl = recall_score(y_val, y_val_pred)\n",
    "f1_inl = f1_score(y_val, y_val_pred)\n",
    "mse_inl = mean_squared_error(y_val, y_val_pred)\n",
    "confmx_inl = confusion_matrix(y_val, y_val_pred)\n",
    "\n",
    "print(\"Initial Model Evaluation\")\n",
    "print(f\"Accuracy:{accuracy_inl}\")\n",
    "print(f\"Precision:{precision_inl}\")\n",
    "print(f\"Recall:{recall_inl}\")\n",
    "print(f\"F1-Score:{f1_inl}\")\n",
    "print(f\"MSE:{mse_inl}\")\n",
    "print(f\"Confusion Matrix:\\n{confmx_inl}\")"
   ]
  },
  {
   "cell_type": "code",
   "execution_count": null,
   "id": "dd7b1791",
   "metadata": {},
   "outputs": [],
   "source": [
    "#Model validation usng test dataset\n",
    "y_test_pred_prob = best_dnn_model.predict(X_test)\n",
    "y_test_pred = (y_test_pred_prob > 0.5).astype(int)\n",
    "\n",
    "accuracy_test = accuracy_score(y_test, y_test_pred)\n",
    "print(f\"Accuracy: {accuracy_test}\")\n",
    "\n"
   ]
  }
 ],
 "metadata": {
  "kernelspec": {
   "display_name": "Python 3 (ipykernel)",
   "language": "python",
   "name": "python3"
  },
  "language_info": {
   "codemirror_mode": {
    "name": "ipython",
    "version": 3
   },
   "file_extension": ".py",
   "mimetype": "text/x-python",
   "name": "python",
   "nbconvert_exporter": "python",
   "pygments_lexer": "ipython3",
   "version": "3.11.4"
  }
 },
 "nbformat": 4,
 "nbformat_minor": 5
}
