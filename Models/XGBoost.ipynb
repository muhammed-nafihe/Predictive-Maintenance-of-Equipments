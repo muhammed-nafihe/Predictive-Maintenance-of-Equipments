{
 "cells": [
  {
   "cell_type": "code",
   "execution_count": 1,
   "id": "01d24e7e",
   "metadata": {},
   "outputs": [],
   "source": [
    "import joblib\n",
    "X_train_sm, X_val, X_test, y_train_sm, y_val, y_test = joblib.load('split_data.pkl')"
   ]
  },
  {
   "cell_type": "code",
   "execution_count": 2,
   "id": "36316d61",
   "metadata": {},
   "outputs": [
    {
     "name": "stdout",
     "output_type": "stream",
     "text": [
      "Training set shape: ((12856, 6), (12856,))\n",
      "Validation set shape: ((1414, 6), (1414,))\n",
      "Test set shape: ((1414, 6), (1414,))\n"
     ]
    }
   ],
   "source": [
    "print(f\"Training set shape: {X_train_sm.shape, y_train_sm.shape}\")\n",
    "print(f\"Validation set shape: {X_val.shape, y_val.shape}\")\n",
    "print(f\"Test set shape: {X_test.shape, y_test.shape}\")"
   ]
  },
  {
   "cell_type": "code",
   "execution_count": 6,
   "id": "3ca20e98",
   "metadata": {
    "scrolled": true
   },
   "outputs": [],
   "source": [
    "import xgboost as xgb"
   ]
  },
  {
   "cell_type": "code",
   "execution_count": 7,
   "id": "d6e72cd4",
   "metadata": {},
   "outputs": [
    {
     "data": {
      "text/plain": [
       "{'objective': 'binary:logistic',\n",
       " 'base_score': None,\n",
       " 'booster': None,\n",
       " 'callbacks': None,\n",
       " 'colsample_bylevel': None,\n",
       " 'colsample_bynode': None,\n",
       " 'colsample_bytree': None,\n",
       " 'device': None,\n",
       " 'early_stopping_rounds': None,\n",
       " 'enable_categorical': False,\n",
       " 'eval_metric': None,\n",
       " 'feature_types': None,\n",
       " 'gamma': None,\n",
       " 'grow_policy': None,\n",
       " 'importance_type': None,\n",
       " 'interaction_constraints': None,\n",
       " 'learning_rate': None,\n",
       " 'max_bin': None,\n",
       " 'max_cat_threshold': None,\n",
       " 'max_cat_to_onehot': None,\n",
       " 'max_delta_step': None,\n",
       " 'max_depth': None,\n",
       " 'max_leaves': None,\n",
       " 'min_child_weight': None,\n",
       " 'missing': nan,\n",
       " 'monotone_constraints': None,\n",
       " 'multi_strategy': None,\n",
       " 'n_estimators': None,\n",
       " 'n_jobs': None,\n",
       " 'num_parallel_tree': None,\n",
       " 'random_state': None,\n",
       " 'reg_alpha': None,\n",
       " 'reg_lambda': None,\n",
       " 'sampling_method': None,\n",
       " 'scale_pos_weight': None,\n",
       " 'subsample': None,\n",
       " 'tree_method': None,\n",
       " 'validate_parameters': None,\n",
       " 'verbosity': None}"
      ]
     },
     "execution_count": 7,
     "metadata": {},
     "output_type": "execute_result"
    }
   ],
   "source": [
    "xgb.XGBClassifier().get_params() "
   ]
  },
  {
   "cell_type": "code",
   "execution_count": 8,
   "id": "4b428e6d",
   "metadata": {},
   "outputs": [
    {
     "name": "stdout",
     "output_type": "stream",
     "text": [
      "Initial model accuracy: 0.9533239038189534\n",
      "Initial model precision: 0.36046511627906974\n",
      "Initial model recall: 0.7380952380952381\n",
      "Initial model F1-score: 0.484375\n",
      "Initial model MSE on : 0.04667609618104668\n",
      "Confusion Matrix:\n",
      "[[1317   55]\n",
      " [  11   31]]\n"
     ]
    }
   ],
   "source": [
    "xgb_model = xgb.XGBClassifier(\n",
    "    learning_rate=0.1,\n",
    "    max_depth=5,\n",
    "    subsample = 1,\n",
    "    min_child_weight=1,\n",
    "    n_estimators=100,\n",
    "    reg_alpha=0,\n",
    "    random_state=42,\n",
    "\n",
    ")\n",
    "#xgb_model.fit(X_train_sm, y_train_sm)\n",
    "xgb_model.fit(X_train_sm, y_train_sm)\n",
    "from sklearn.metrics import accuracy_score, precision_score, recall_score, f1_score, confusion_matrix, mean_squared_error\n",
    "\n",
    "# Predict on validation data\n",
    "y_val_pred = xgb_model.predict(X_val)\n",
    "\n",
    "# Evaluate model performance\n",
    "accuracy = accuracy_score(y_val, y_val_pred)\n",
    "precision = precision_score(y_val, y_val_pred)\n",
    "recall = recall_score(y_val, y_val_pred)\n",
    "f1 = f1_score(y_val, y_val_pred)\n",
    "mse = mean_squared_error(y_val, y_val_pred)\n",
    "conf_matrix = confusion_matrix(y_val, y_val_pred)\n",
    "\n",
    "print(f\"Initial model accuracy: {accuracy}\")\n",
    "print(f\"Initial model precision: {precision}\")\n",
    "print(f\"Initial model recall: {recall}\")\n",
    "print(f\"Initial model F1-score: {f1}\")\n",
    "print(f\"Initial model MSE on : {mse}\")\n",
    "print(f\"Confusion Matrix:\\n{conf_matrix}\")"
   ]
  },
  {
   "cell_type": "code",
   "execution_count": 9,
   "id": "97c1f1cd",
   "metadata": {},
   "outputs": [
    {
     "name": "stdout",
     "output_type": "stream",
     "text": [
      "Fitting 5 folds for each of 1296 candidates, totalling 6480 fits\n",
      "Best parameters: {'colsample_bytree': 0.6, 'learning_rate': 0.2, 'max_depth': 20, 'min_child_weight': 1, 'n_estimators': 300, 'reg_alpha': 0.0, 'subsample': 0.8}\n"
     ]
    }
   ],
   "source": [
    "from sklearn.model_selection import GridSearchCV\n",
    "\n",
    "# Define the initial XGBoost model\n",
    "xgb_model = xgb.XGBClassifier(objective='binary:logistic', random_state=42)\n",
    "\n",
    "# Define the parameter grid to search\n",
    "param_grid = {\n",
    "    'n_estimators': [100, 200, 300],\n",
    "    'max_depth': [5, 10, 15, 20],\n",
    "    'learning_rate': [0.01, 0.1, 0.2],\n",
    "    'subsample': [ 0.4, 0.6, 0.8],\n",
    "    'colsample_bytree': [0.4, 0.6, 0.8],\n",
    "     'reg_alpha' : [0.0, 10.0],\n",
    "    'min_child_weight': [1, 5],\n",
    "}\n",
    "\n",
    "# Set up GridSearchCV\n",
    "grid_search = GridSearchCV(\n",
    "    estimator=xgb_model,\n",
    "    param_grid=param_grid,\n",
    "    scoring='accuracy', \n",
    "    cv=5,              \n",
    "    verbose=2,\n",
    "    n_jobs=-1          \n",
    ")\n",
    "\n",
    "# Fit GridSearchCV on the training data\n",
    "grid_search.fit(X_train_sm, y_train_sm)\n",
    "\n",
    "# Best model from grid search\n",
    "best_xgb_model = grid_search.best_estimator_\n",
    "\n",
    "# Save the best model for future use\n",
    "import joblib\n",
    "joblib.dump(best_xgb_model, 'xgb_best_model.pkl')\n",
    "\n",
    "# Print the best parameters found\n",
    "print(f\"Best parameters: {grid_search.best_params_}\")\n"
   ]
  },
  {
   "cell_type": "code",
   "execution_count": 10,
   "id": "b3e231f3",
   "metadata": {},
   "outputs": [
    {
     "name": "stdout",
     "output_type": "stream",
     "text": [
      "Optimized model accuracy: 0.978076379066478\n",
      "Optimized model precision: 0.6122448979591837\n",
      "Optimized model recall: 0.7142857142857143\n",
      "Optimized model F1-score: 0.6593406593406593\n",
      "Initial model MSE on : 0.04667609618104668\n",
      "Confusion Matrix:\n",
      "[[1353   19]\n",
      " [  12   30]]\n"
     ]
    }
   ],
   "source": [
    "# Predict using the best model\n",
    "y_val_pred_opt = best_xgb_model.predict(X_val)\n",
    "\n",
    "# Evaluate the optimized model\n",
    "accuracy_opt = accuracy_score(y_val, y_val_pred_opt)\n",
    "precision_opt = precision_score(y_val, y_val_pred_opt)\n",
    "recall_opt = recall_score(y_val, y_val_pred_opt)\n",
    "f1_opt = f1_score(y_val, y_val_pred_opt)\n",
    "mse = mean_squared_error(y_val, y_val_pred)\n",
    "conf_matrix_opt = confusion_matrix(y_val, y_val_pred_opt)\n",
    "\n",
    "print(f\"Optimized model accuracy: {accuracy_opt}\")\n",
    "print(f\"Optimized model precision: {precision_opt}\")\n",
    "print(f\"Optimized model recall: {recall_opt}\")\n",
    "print(f\"Optimized model F1-score: {f1_opt}\")\n",
    "print(f\"Initial model MSE on : {mse}\")\n",
    "print(f\"Confusion Matrix:\\n{conf_matrix_opt}\")\n",
    "\n"
   ]
  },
  {
   "cell_type": "code",
   "execution_count": 11,
   "id": "9cf8b1bc",
   "metadata": {},
   "outputs": [
    {
     "name": "stdout",
     "output_type": "stream",
     "text": [
      "Model Accuracy on Test Data: 0.9837\n"
     ]
    }
   ],
   "source": [
    "#Make predictions on the test dataset\n",
    "y_test_pred = best_xgb_model.predict(X_test)\n",
    "test_accuracy = accuracy_score(y_test, y_test_pred)\n",
    "print(f\"Model Accuracy on Test Data: {test_accuracy:.4f}\")"
   ]
  },
  {
   "cell_type": "code",
   "execution_count": null,
   "id": "5a6fa903",
   "metadata": {},
   "outputs": [],
   "source": []
  }
 ],
 "metadata": {
  "kernelspec": {
   "display_name": "Python 3 (ipykernel)",
   "language": "python",
   "name": "python3"
  },
  "language_info": {
   "codemirror_mode": {
    "name": "ipython",
    "version": 3
   },
   "file_extension": ".py",
   "mimetype": "text/x-python",
   "name": "python",
   "nbconvert_exporter": "python",
   "pygments_lexer": "ipython3",
   "version": "3.9.13"
  }
 },
 "nbformat": 4,
 "nbformat_minor": 5
}
