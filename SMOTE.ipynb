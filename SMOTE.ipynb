{
 "cells": [
  {
   "cell_type": "code",
   "execution_count": 1,
   "id": "e59efe06",
   "metadata": {},
   "outputs": [],
   "source": [
    "import pandas as pd\n",
    "\n",
    "# Load the dataset\n",
    "df = pd.read_csv('preprocessed_dataset.csv')"
   ]
  },
  {
   "cell_type": "code",
   "execution_count": 2,
   "id": "ef86672d",
   "metadata": {},
   "outputs": [
    {
     "data": {
      "text/html": [
       "<div>\n",
       "<style scoped>\n",
       "    .dataframe tbody tr th:only-of-type {\n",
       "        vertical-align: middle;\n",
       "    }\n",
       "\n",
       "    .dataframe tbody tr th {\n",
       "        vertical-align: top;\n",
       "    }\n",
       "\n",
       "    .dataframe thead th {\n",
       "        text-align: right;\n",
       "    }\n",
       "</style>\n",
       "<table border=\"1\" class=\"dataframe\">\n",
       "  <thead>\n",
       "    <tr style=\"text-align: right;\">\n",
       "      <th></th>\n",
       "      <th>Type</th>\n",
       "      <th>Air temperature [K]</th>\n",
       "      <th>Process temperature [K]</th>\n",
       "      <th>Rotational speed [rpm]</th>\n",
       "      <th>Torque [Nm]</th>\n",
       "      <th>Tool wear [min]</th>\n",
       "      <th>Power[W]</th>\n",
       "      <th>Machine failure</th>\n",
       "      <th>TWF</th>\n",
       "      <th>HDF</th>\n",
       "      <th>PWF</th>\n",
       "      <th>OSF</th>\n",
       "      <th>RNF</th>\n",
       "    </tr>\n",
       "  </thead>\n",
       "  <tbody>\n",
       "    <tr>\n",
       "      <th>0</th>\n",
       "      <td>1</td>\n",
       "      <td>-0.952389</td>\n",
       "      <td>-0.947360</td>\n",
       "      <td>0.068185</td>\n",
       "      <td>0.282200</td>\n",
       "      <td>-1.695984</td>\n",
       "      <td>0.629443</td>\n",
       "      <td>0</td>\n",
       "      <td>0</td>\n",
       "      <td>0</td>\n",
       "      <td>0</td>\n",
       "      <td>0</td>\n",
       "      <td>0</td>\n",
       "    </tr>\n",
       "    <tr>\n",
       "      <th>1</th>\n",
       "      <td>0</td>\n",
       "      <td>-0.902393</td>\n",
       "      <td>-0.879959</td>\n",
       "      <td>-0.729472</td>\n",
       "      <td>0.633308</td>\n",
       "      <td>-1.648852</td>\n",
       "      <td>0.512456</td>\n",
       "      <td>0</td>\n",
       "      <td>0</td>\n",
       "      <td>0</td>\n",
       "      <td>0</td>\n",
       "      <td>0</td>\n",
       "      <td>0</td>\n",
       "    </tr>\n",
       "    <tr>\n",
       "      <th>2</th>\n",
       "      <td>0</td>\n",
       "      <td>-0.952389</td>\n",
       "      <td>-1.014761</td>\n",
       "      <td>-0.227450</td>\n",
       "      <td>0.944290</td>\n",
       "      <td>-1.617430</td>\n",
       "      <td>1.376889</td>\n",
       "      <td>0</td>\n",
       "      <td>0</td>\n",
       "      <td>0</td>\n",
       "      <td>0</td>\n",
       "      <td>0</td>\n",
       "      <td>0</td>\n",
       "    </tr>\n",
       "    <tr>\n",
       "      <th>3</th>\n",
       "      <td>0</td>\n",
       "      <td>-0.902393</td>\n",
       "      <td>-0.947360</td>\n",
       "      <td>-0.590021</td>\n",
       "      <td>-0.048845</td>\n",
       "      <td>-1.586009</td>\n",
       "      <td>-0.330009</td>\n",
       "      <td>0</td>\n",
       "      <td>0</td>\n",
       "      <td>0</td>\n",
       "      <td>0</td>\n",
       "      <td>0</td>\n",
       "      <td>0</td>\n",
       "    </tr>\n",
       "    <tr>\n",
       "      <th>4</th>\n",
       "      <td>0</td>\n",
       "      <td>-0.902393</td>\n",
       "      <td>-0.879959</td>\n",
       "      <td>-0.729472</td>\n",
       "      <td>0.001313</td>\n",
       "      <td>-1.554588</td>\n",
       "      <td>-0.357824</td>\n",
       "      <td>0</td>\n",
       "      <td>0</td>\n",
       "      <td>0</td>\n",
       "      <td>0</td>\n",
       "      <td>0</td>\n",
       "      <td>0</td>\n",
       "    </tr>\n",
       "  </tbody>\n",
       "</table>\n",
       "</div>"
      ],
      "text/plain": [
       "   Type  Air temperature [K]  Process temperature [K]  Rotational speed [rpm]  \\\n",
       "0     1            -0.952389                -0.947360                0.068185   \n",
       "1     0            -0.902393                -0.879959               -0.729472   \n",
       "2     0            -0.952389                -1.014761               -0.227450   \n",
       "3     0            -0.902393                -0.947360               -0.590021   \n",
       "4     0            -0.902393                -0.879959               -0.729472   \n",
       "\n",
       "   Torque [Nm]  Tool wear [min]  Power[W]  Machine failure  TWF  HDF  PWF  \\\n",
       "0     0.282200        -1.695984  0.629443                0    0    0    0   \n",
       "1     0.633308        -1.648852  0.512456                0    0    0    0   \n",
       "2     0.944290        -1.617430  1.376889                0    0    0    0   \n",
       "3    -0.048845        -1.586009 -0.330009                0    0    0    0   \n",
       "4     0.001313        -1.554588 -0.357824                0    0    0    0   \n",
       "\n",
       "   OSF  RNF  \n",
       "0    0    0  \n",
       "1    0    0  \n",
       "2    0    0  \n",
       "3    0    0  \n",
       "4    0    0  "
      ]
     },
     "execution_count": 2,
     "metadata": {},
     "output_type": "execute_result"
    }
   ],
   "source": [
    "df.head()"
   ]
  },
  {
   "cell_type": "code",
   "execution_count": 3,
   "id": "d12c4225",
   "metadata": {},
   "outputs": [
    {
     "data": {
      "text/html": [
       "<div>\n",
       "<style scoped>\n",
       "    .dataframe tbody tr th:only-of-type {\n",
       "        vertical-align: middle;\n",
       "    }\n",
       "\n",
       "    .dataframe tbody tr th {\n",
       "        vertical-align: top;\n",
       "    }\n",
       "\n",
       "    .dataframe thead th {\n",
       "        text-align: right;\n",
       "    }\n",
       "</style>\n",
       "<table border=\"1\" class=\"dataframe\">\n",
       "  <thead>\n",
       "    <tr style=\"text-align: right;\">\n",
       "      <th></th>\n",
       "      <th>Type</th>\n",
       "      <th>Air temperature</th>\n",
       "      <th>Process temperature</th>\n",
       "      <th>Rotational speed</th>\n",
       "      <th>torque</th>\n",
       "      <th>Tool wear</th>\n",
       "      <th>Power</th>\n",
       "      <th>Machine failure</th>\n",
       "      <th>TWF</th>\n",
       "      <th>HDF</th>\n",
       "      <th>PWF</th>\n",
       "      <th>OSF</th>\n",
       "      <th>RNF</th>\n",
       "    </tr>\n",
       "  </thead>\n",
       "  <tbody>\n",
       "    <tr>\n",
       "      <th>0</th>\n",
       "      <td>1</td>\n",
       "      <td>-0.952389</td>\n",
       "      <td>-0.947360</td>\n",
       "      <td>0.068185</td>\n",
       "      <td>0.282200</td>\n",
       "      <td>-1.695984</td>\n",
       "      <td>0.629443</td>\n",
       "      <td>0</td>\n",
       "      <td>0</td>\n",
       "      <td>0</td>\n",
       "      <td>0</td>\n",
       "      <td>0</td>\n",
       "      <td>0</td>\n",
       "    </tr>\n",
       "    <tr>\n",
       "      <th>1</th>\n",
       "      <td>0</td>\n",
       "      <td>-0.902393</td>\n",
       "      <td>-0.879959</td>\n",
       "      <td>-0.729472</td>\n",
       "      <td>0.633308</td>\n",
       "      <td>-1.648852</td>\n",
       "      <td>0.512456</td>\n",
       "      <td>0</td>\n",
       "      <td>0</td>\n",
       "      <td>0</td>\n",
       "      <td>0</td>\n",
       "      <td>0</td>\n",
       "      <td>0</td>\n",
       "    </tr>\n",
       "    <tr>\n",
       "      <th>2</th>\n",
       "      <td>0</td>\n",
       "      <td>-0.952389</td>\n",
       "      <td>-1.014761</td>\n",
       "      <td>-0.227450</td>\n",
       "      <td>0.944290</td>\n",
       "      <td>-1.617430</td>\n",
       "      <td>1.376889</td>\n",
       "      <td>0</td>\n",
       "      <td>0</td>\n",
       "      <td>0</td>\n",
       "      <td>0</td>\n",
       "      <td>0</td>\n",
       "      <td>0</td>\n",
       "    </tr>\n",
       "    <tr>\n",
       "      <th>3</th>\n",
       "      <td>0</td>\n",
       "      <td>-0.902393</td>\n",
       "      <td>-0.947360</td>\n",
       "      <td>-0.590021</td>\n",
       "      <td>-0.048845</td>\n",
       "      <td>-1.586009</td>\n",
       "      <td>-0.330009</td>\n",
       "      <td>0</td>\n",
       "      <td>0</td>\n",
       "      <td>0</td>\n",
       "      <td>0</td>\n",
       "      <td>0</td>\n",
       "      <td>0</td>\n",
       "    </tr>\n",
       "    <tr>\n",
       "      <th>4</th>\n",
       "      <td>0</td>\n",
       "      <td>-0.902393</td>\n",
       "      <td>-0.879959</td>\n",
       "      <td>-0.729472</td>\n",
       "      <td>0.001313</td>\n",
       "      <td>-1.554588</td>\n",
       "      <td>-0.357824</td>\n",
       "      <td>0</td>\n",
       "      <td>0</td>\n",
       "      <td>0</td>\n",
       "      <td>0</td>\n",
       "      <td>0</td>\n",
       "      <td>0</td>\n",
       "    </tr>\n",
       "  </tbody>\n",
       "</table>\n",
       "</div>"
      ],
      "text/plain": [
       "   Type  Air temperature  Process temperature  Rotational speed    torque  \\\n",
       "0     1        -0.952389            -0.947360          0.068185  0.282200   \n",
       "1     0        -0.902393            -0.879959         -0.729472  0.633308   \n",
       "2     0        -0.952389            -1.014761         -0.227450  0.944290   \n",
       "3     0        -0.902393            -0.947360         -0.590021 -0.048845   \n",
       "4     0        -0.902393            -0.879959         -0.729472  0.001313   \n",
       "\n",
       "   Tool wear     Power  Machine failure  TWF  HDF  PWF  OSF  RNF  \n",
       "0  -1.695984  0.629443                0    0    0    0    0    0  \n",
       "1  -1.648852  0.512456                0    0    0    0    0    0  \n",
       "2  -1.617430  1.376889                0    0    0    0    0    0  \n",
       "3  -1.586009 -0.330009                0    0    0    0    0    0  \n",
       "4  -1.554588 -0.357824                0    0    0    0    0    0  "
      ]
     },
     "execution_count": 3,
     "metadata": {},
     "output_type": "execute_result"
    }
   ],
   "source": [
    "df.rename(columns = {'Rotational speed [rpm]':'Rotational speed',\n",
    "                     'Air temperature [K]':'Air temperature',\n",
    "                     'Process temperature [K]':'Process temperature',\n",
    "                     'Torque [Nm]':'torque',\n",
    "                     'Tool wear [min]':'Tool wear',\n",
    "                     'Power[W]':'Power'}, inplace = True)\n",
    "df.head()"
   ]
  },
  {
   "cell_type": "code",
   "execution_count": 4,
   "id": "14d7d05b",
   "metadata": {},
   "outputs": [],
   "source": [
    "#Defining input features and target variable\n",
    "X = df.drop(columns = ['Type', 'Machine failure', 'TWF', 'HDF', 'PWF', 'OSF', 'RNF'])\n",
    "y= df['Machine failure']"
   ]
  },
  {
   "cell_type": "code",
   "execution_count": 5,
   "id": "30d5fde0",
   "metadata": {
    "scrolled": true
   },
   "outputs": [
    {
     "name": "stdout",
     "output_type": "stream",
     "text": [
      "input feature\n"
     ]
    },
    {
     "data": {
      "text/html": [
       "<div>\n",
       "<style scoped>\n",
       "    .dataframe tbody tr th:only-of-type {\n",
       "        vertical-align: middle;\n",
       "    }\n",
       "\n",
       "    .dataframe tbody tr th {\n",
       "        vertical-align: top;\n",
       "    }\n",
       "\n",
       "    .dataframe thead th {\n",
       "        text-align: right;\n",
       "    }\n",
       "</style>\n",
       "<table border=\"1\" class=\"dataframe\">\n",
       "  <thead>\n",
       "    <tr style=\"text-align: right;\">\n",
       "      <th></th>\n",
       "      <th>Air temperature</th>\n",
       "      <th>Process temperature</th>\n",
       "      <th>Rotational speed</th>\n",
       "      <th>torque</th>\n",
       "      <th>Tool wear</th>\n",
       "      <th>Power</th>\n",
       "    </tr>\n",
       "  </thead>\n",
       "  <tbody>\n",
       "    <tr>\n",
       "      <th>0</th>\n",
       "      <td>-0.952389</td>\n",
       "      <td>-0.947360</td>\n",
       "      <td>0.068185</td>\n",
       "      <td>0.282200</td>\n",
       "      <td>-1.695984</td>\n",
       "      <td>0.629443</td>\n",
       "    </tr>\n",
       "    <tr>\n",
       "      <th>1</th>\n",
       "      <td>-0.902393</td>\n",
       "      <td>-0.879959</td>\n",
       "      <td>-0.729472</td>\n",
       "      <td>0.633308</td>\n",
       "      <td>-1.648852</td>\n",
       "      <td>0.512456</td>\n",
       "    </tr>\n",
       "    <tr>\n",
       "      <th>2</th>\n",
       "      <td>-0.952389</td>\n",
       "      <td>-1.014761</td>\n",
       "      <td>-0.227450</td>\n",
       "      <td>0.944290</td>\n",
       "      <td>-1.617430</td>\n",
       "      <td>1.376889</td>\n",
       "    </tr>\n",
       "    <tr>\n",
       "      <th>3</th>\n",
       "      <td>-0.902393</td>\n",
       "      <td>-0.947360</td>\n",
       "      <td>-0.590021</td>\n",
       "      <td>-0.048845</td>\n",
       "      <td>-1.586009</td>\n",
       "      <td>-0.330009</td>\n",
       "    </tr>\n",
       "    <tr>\n",
       "      <th>4</th>\n",
       "      <td>-0.902393</td>\n",
       "      <td>-0.879959</td>\n",
       "      <td>-0.729472</td>\n",
       "      <td>0.001313</td>\n",
       "      <td>-1.554588</td>\n",
       "      <td>-0.357824</td>\n",
       "    </tr>\n",
       "  </tbody>\n",
       "</table>\n",
       "</div>"
      ],
      "text/plain": [
       "   Air temperature  Process temperature  Rotational speed    torque  \\\n",
       "0        -0.952389            -0.947360          0.068185  0.282200   \n",
       "1        -0.902393            -0.879959         -0.729472  0.633308   \n",
       "2        -0.952389            -1.014761         -0.227450  0.944290   \n",
       "3        -0.902393            -0.947360         -0.590021 -0.048845   \n",
       "4        -0.902393            -0.879959         -0.729472  0.001313   \n",
       "\n",
       "   Tool wear     Power  \n",
       "0  -1.695984  0.629443  \n",
       "1  -1.648852  0.512456  \n",
       "2  -1.617430  1.376889  \n",
       "3  -1.586009 -0.330009  \n",
       "4  -1.554588 -0.357824  "
      ]
     },
     "execution_count": 5,
     "metadata": {},
     "output_type": "execute_result"
    }
   ],
   "source": [
    "print(\"input feature\")\n",
    "X.head()"
   ]
  },
  {
   "cell_type": "code",
   "execution_count": 6,
   "id": "ee0fee6d",
   "metadata": {},
   "outputs": [
    {
     "name": "stdout",
     "output_type": "stream",
     "text": [
      "Target Variable\n"
     ]
    },
    {
     "data": {
      "text/plain": [
       "0    0\n",
       "1    0\n",
       "2    0\n",
       "3    0\n",
       "4    0\n",
       "Name: Machine failure, dtype: int64"
      ]
     },
     "execution_count": 6,
     "metadata": {},
     "output_type": "execute_result"
    }
   ],
   "source": [
    "print(\"Target Variable\")\n",
    "y.head()"
   ]
  },
  {
   "cell_type": "code",
   "execution_count": 7,
   "id": "3ea61e10",
   "metadata": {},
   "outputs": [],
   "source": [
    "from sklearn.model_selection import train_test_split\n",
    "\n",
    "#splitting into training and test set for validation and testing set\n",
    "X_train, X_temp, y_train, y_temp = train_test_split(X, y, test_size=0.3, random_state=42)\n",
    "\n",
    "#Again split into validation and test set\n",
    "X_val, X_test, y_val, y_test = train_test_split(X_temp, y_temp, test_size=0.5, random_state=42)\n"
   ]
  },
  {
   "cell_type": "code",
   "execution_count": 8,
   "id": "849e1185",
   "metadata": {},
   "outputs": [
    {
     "data": {
      "text/plain": [
       "(6596, 6)"
      ]
     },
     "execution_count": 8,
     "metadata": {},
     "output_type": "execute_result"
    }
   ],
   "source": [
    "X_train.shape"
   ]
  },
  {
   "cell_type": "code",
   "execution_count": 9,
   "id": "1c63b741",
   "metadata": {},
   "outputs": [
    {
     "data": {
      "text/plain": [
       "(1414, 6)"
      ]
     },
     "execution_count": 9,
     "metadata": {},
     "output_type": "execute_result"
    }
   ],
   "source": [
    "X_val.shape"
   ]
  },
  {
   "cell_type": "code",
   "execution_count": 10,
   "id": "81564121",
   "metadata": {},
   "outputs": [
    {
     "data": {
      "text/html": [
       "<div>\n",
       "<style scoped>\n",
       "    .dataframe tbody tr th:only-of-type {\n",
       "        vertical-align: middle;\n",
       "    }\n",
       "\n",
       "    .dataframe tbody tr th {\n",
       "        vertical-align: top;\n",
       "    }\n",
       "\n",
       "    .dataframe thead th {\n",
       "        text-align: right;\n",
       "    }\n",
       "</style>\n",
       "<table border=\"1\" class=\"dataframe\">\n",
       "  <thead>\n",
       "    <tr style=\"text-align: right;\">\n",
       "      <th></th>\n",
       "      <th>Air temperature</th>\n",
       "      <th>Process temperature</th>\n",
       "      <th>Rotational speed</th>\n",
       "      <th>torque</th>\n",
       "      <th>Tool wear</th>\n",
       "      <th>Power</th>\n",
       "    </tr>\n",
       "  </thead>\n",
       "  <tbody>\n",
       "    <tr>\n",
       "      <th>5983</th>\n",
       "      <td>-0.002465</td>\n",
       "      <td>-0.340752</td>\n",
       "      <td>1.897775</td>\n",
       "      <td>-1.764260</td>\n",
       "      <td>-0.454840</td>\n",
       "      <td>-1.753976</td>\n",
       "    </tr>\n",
       "    <tr>\n",
       "      <th>8681</th>\n",
       "      <td>-1.152374</td>\n",
       "      <td>-0.812558</td>\n",
       "      <td>-0.389212</td>\n",
       "      <td>0.372485</td>\n",
       "      <td>-0.187758</td>\n",
       "      <td>0.414826</td>\n",
       "    </tr>\n",
       "    <tr>\n",
       "      <th>6856</th>\n",
       "      <td>-0.002465</td>\n",
       "      <td>0.265856</td>\n",
       "      <td>-0.857766</td>\n",
       "      <td>1.215145</td>\n",
       "      <td>0.314983</td>\n",
       "      <td>1.196100</td>\n",
       "    </tr>\n",
       "    <tr>\n",
       "      <th>1346</th>\n",
       "      <td>-0.602417</td>\n",
       "      <td>-0.138549</td>\n",
       "      <td>-0.026641</td>\n",
       "      <td>-0.299637</td>\n",
       "      <td>-0.957582</td>\n",
       "      <td>-0.314851</td>\n",
       "    </tr>\n",
       "    <tr>\n",
       "      <th>2455</th>\n",
       "      <td>-0.302441</td>\n",
       "      <td>-0.542955</td>\n",
       "      <td>0.458646</td>\n",
       "      <td>-0.550428</td>\n",
       "      <td>-0.941871</td>\n",
       "      <td>-0.396626</td>\n",
       "    </tr>\n",
       "    <tr>\n",
       "      <th>...</th>\n",
       "      <td>...</td>\n",
       "      <td>...</td>\n",
       "      <td>...</td>\n",
       "      <td>...</td>\n",
       "      <td>...</td>\n",
       "      <td>...</td>\n",
       "    </tr>\n",
       "    <tr>\n",
       "      <th>4834</th>\n",
       "      <td>2.197361</td>\n",
       "      <td>2.422684</td>\n",
       "      <td>0.257838</td>\n",
       "      <td>-0.109035</td>\n",
       "      <td>-1.554588</td>\n",
       "      <td>0.165743</td>\n",
       "    </tr>\n",
       "    <tr>\n",
       "      <th>4248</th>\n",
       "      <td>1.247436</td>\n",
       "      <td>0.198455</td>\n",
       "      <td>0.001249</td>\n",
       "      <td>-0.099004</td>\n",
       "      <td>0.173587</td>\n",
       "      <td>0.005284</td>\n",
       "    </tr>\n",
       "    <tr>\n",
       "      <th>5057</th>\n",
       "      <td>1.447420</td>\n",
       "      <td>1.479072</td>\n",
       "      <td>-0.389212</td>\n",
       "      <td>0.201946</td>\n",
       "      <td>1.666102</td>\n",
       "      <td>0.169815</td>\n",
       "    </tr>\n",
       "    <tr>\n",
       "      <th>5817</th>\n",
       "      <td>0.497496</td>\n",
       "      <td>0.602860</td>\n",
       "      <td>0.084919</td>\n",
       "      <td>-0.730998</td>\n",
       "      <td>-0.769054</td>\n",
       "      <td>-0.897844</td>\n",
       "    </tr>\n",
       "    <tr>\n",
       "      <th>7626</th>\n",
       "      <td>0.097527</td>\n",
       "      <td>1.074667</td>\n",
       "      <td>1.607718</td>\n",
       "      <td>-1.302803</td>\n",
       "      <td>-1.350349</td>\n",
       "      <td>-1.043714</td>\n",
       "    </tr>\n",
       "  </tbody>\n",
       "</table>\n",
       "<p>1414 rows × 6 columns</p>\n",
       "</div>"
      ],
      "text/plain": [
       "      Air temperature  Process temperature  Rotational speed    torque  \\\n",
       "5983        -0.002465            -0.340752          1.897775 -1.764260   \n",
       "8681        -1.152374            -0.812558         -0.389212  0.372485   \n",
       "6856        -0.002465             0.265856         -0.857766  1.215145   \n",
       "1346        -0.602417            -0.138549         -0.026641 -0.299637   \n",
       "2455        -0.302441            -0.542955          0.458646 -0.550428   \n",
       "...               ...                  ...               ...       ...   \n",
       "4834         2.197361             2.422684          0.257838 -0.109035   \n",
       "4248         1.247436             0.198455          0.001249 -0.099004   \n",
       "5057         1.447420             1.479072         -0.389212  0.201946   \n",
       "5817         0.497496             0.602860          0.084919 -0.730998   \n",
       "7626         0.097527             1.074667          1.607718 -1.302803   \n",
       "\n",
       "      Tool wear     Power  \n",
       "5983  -0.454840 -1.753976  \n",
       "8681  -0.187758  0.414826  \n",
       "6856   0.314983  1.196100  \n",
       "1346  -0.957582 -0.314851  \n",
       "2455  -0.941871 -0.396626  \n",
       "...         ...       ...  \n",
       "4834  -1.554588  0.165743  \n",
       "4248   0.173587  0.005284  \n",
       "5057   1.666102  0.169815  \n",
       "5817  -0.769054 -0.897844  \n",
       "7626  -1.350349 -1.043714  \n",
       "\n",
       "[1414 rows x 6 columns]"
      ]
     },
     "execution_count": 10,
     "metadata": {},
     "output_type": "execute_result"
    }
   ],
   "source": [
    "X_val"
   ]
  },
  {
   "cell_type": "code",
   "execution_count": 11,
   "id": "a902629f",
   "metadata": {},
   "outputs": [
    {
     "data": {
      "text/plain": [
       "(1414, 6)"
      ]
     },
     "execution_count": 11,
     "metadata": {},
     "output_type": "execute_result"
    }
   ],
   "source": [
    "X_test.shape"
   ]
  },
  {
   "cell_type": "code",
   "execution_count": 12,
   "id": "a8c6cda8",
   "metadata": {},
   "outputs": [],
   "source": [
    "from imblearn.over_sampling import SMOTE\n",
    "\n",
    "# Apply SMOTE to the training set only for the main target\n",
    "smote = SMOTE(random_state=42)\n",
    "X_train_sm, y_train_sm = smote.fit_resample(X_train, y_train)\n"
   ]
  },
  {
   "cell_type": "code",
   "execution_count": 13,
   "id": "dca398c8",
   "metadata": {},
   "outputs": [
    {
     "name": "stdout",
     "output_type": "stream",
     "text": [
      "Class distribution before SMOTE:\n",
      " 0    6428\n",
      "1     168\n",
      "Name: Machine failure, dtype: int64\n",
      "Class distribution after SMOTE:\n",
      " 0    6428\n",
      "1    6428\n",
      "Name: Machine failure, dtype: int64\n"
     ]
    }
   ],
   "source": [
    "#Checking class distribution before and after applying SMOTE\n",
    "print(\"Class distribution before SMOTE:\\n\", y_train.value_counts())\n",
    "print(\"Class distribution after SMOTE:\\n\", y_train_sm.value_counts())"
   ]
  },
  {
   "cell_type": "code",
   "execution_count": 14,
   "id": "7536a8c6",
   "metadata": {},
   "outputs": [
    {
     "data": {
      "image/png": "[encoded data removed]",
      "text/plain": [
       "<Figure size 1400x600 with 2 Axes>"
      ]
     },
     "metadata": {},
     "output_type": "display_data"
    }
   ],
   "source": [
    "import matplotlib.pyplot as plt\n",
    "import seaborn as sns\n",
    "\n",
    "# Visualizing the class distribution before and after SMOTE\n",
    "fig, ax = plt.subplots(1, 2, figsize=(14, 6))\n",
    "\n",
    "# Before SMOTE\n",
    "sns.countplot(x=y_train, ax=ax[0])\n",
    "ax[0].set_title('Class Distribution Before SMOTE')\n",
    "ax[0].set_xlabel('Machine Failure')\n",
    "ax[0].set_ylabel('Count')\n",
    "\n",
    "# Adding the counts on top of the bars before SMOTE\n",
    "for p in ax[0].patches:\n",
    "    ax[0].annotate(f'{p.get_height()}', (p.get_x() + p.get_width() / 2., p.get_height()),\n",
    "                   ha='center', va='center', xytext=(0, 10), textcoords='offset points')\n",
    "\n",
    "# After SMOTE\n",
    "sns.countplot(x=y_train_sm, ax=ax[1])\n",
    "ax[1].set_title('Class Distribution After SMOTE')\n",
    "ax[1].set_xlabel('Machine Failure')\n",
    "ax[1].set_ylabel('Count')\n",
    "\n",
    "# Adding the counts on top of the bars after SMOTE\n",
    "for p in ax[1].patches:\n",
    "    ax[1].annotate(f'{p.get_height()}', (p.get_x() + p.get_width() / 2., p.get_height()),\n",
    "                   ha='center', va='center', xytext=(0, 10), textcoords='offset points')\n",
    "\n",
    "plt.tight_layout()\n",
    "plt.show()\n",
    "\n"
   ]
  },
  {
   "cell_type": "code",
   "execution_count": 15,
   "id": "cf659340",
   "metadata": {},
   "outputs": [
    {
     "name": "stdout",
     "output_type": "stream",
     "text": [
      "Training set shape: ((12856, 6), (12856,))\n",
      "Validation set shape: ((1414, 6), (1414,))\n",
      "Test set shape: ((1414, 6), (1414,))\n"
     ]
    }
   ],
   "source": [
    "print(f\"Training set shape: {X_train_sm.shape, y_train_sm.shape}\")\n",
    "print(f\"Validation set shape: {X_val.shape, y_val.shape}\")\n",
    "print(f\"Test set shape: {X_test.shape, y_test.shape}\")"
   ]
  },
  {
   "cell_type": "code",
   "execution_count": 16,
   "id": "489f18fb",
   "metadata": {},
   "outputs": [
    {
     "data": {
      "text/plain": [
       "['split_data.pkl']"
      ]
     },
     "execution_count": 16,
     "metadata": {},
     "output_type": "execute_result"
    }
   ],
   "source": [
    "import joblib\n",
    "# Save the resampled training data, and the original validation and test sets\n",
    "joblib.dump((X_train_sm, X_val, X_test, y_train_sm, y_val, y_test), 'split_data.pkl')"
   ]
  },
  {
   "cell_type": "code",
   "execution_count": 17,
   "id": "38884e0b",
   "metadata": {},
   "outputs": [
    {
     "data": {
      "text/plain": [
       "0    1372\n",
       "1      42\n",
       "Name: Machine failure, dtype: int64"
      ]
     },
     "execution_count": 17,
     "metadata": {},
     "output_type": "execute_result"
    }
   ],
   "source": [
    "y_val.value_counts()\n",
    "\n",
    "\n"
   ]
  },
  {
   "cell_type": "code",
   "execution_count": 18,
   "id": "03f89ab0",
   "metadata": {},
   "outputs": [
    {
     "data": {
      "text/plain": [
       "0    1392\n",
       "1      22\n",
       "Name: Machine failure, dtype: int64"
      ]
     },
     "execution_count": 18,
     "metadata": {},
     "output_type": "execute_result"
    }
   ],
   "source": [
    "y_test.value_counts()"
   ]
  },
  {
   "cell_type": "code",
   "execution_count": null,
   "id": "14bc9186",
   "metadata": {},
   "outputs": [],
   "source": []
  }
 ],
 "metadata": {
  "kernelspec": {
   "display_name": "Python 3 (ipykernel)",
   "language": "python",
   "name": "python3"
  },
  "language_info": {
   "codemirror_mode": {
    "name": "ipython",
    "version": 3
   },
   "file_extension": ".py",
   "mimetype": "text/x-python",
   "name": "python",
   "nbconvert_exporter": "python",
   "pygments_lexer": "ipython3",
   "version": "3.11.4"
  }
 },
 "nbformat": 4,
 "nbformat_minor": 5
}
